{
 "cells": [
  {
   "cell_type": "code",
   "execution_count": 1,
   "metadata": {},
   "outputs": [],
   "source": [
    "import numpy as np\n",
    "import pandas as pd \n",
    "import matplotlib.pyplot as plt\n",
    "%matplotlib inline\n",
    "\n",
    "from os import chdir \n",
    "chdir('C:\\\\Users\\\\afeki\\\\Desktop\\\\Code\\\\BootStrapDesicionTree\\\\')"
   ]
  },
  {
   "cell_type": "code",
   "execution_count": 2,
   "metadata": {},
   "outputs": [],
   "source": [
    "from gradient_boosting_trees.gradient_boosting_regressor import CartGradientBoostingRegressor, \\\n",
    "    CartGradientBoostingRegressorKfold\n",
    "from gradient_boosting_trees.gradient_boosting_abstract import GradientBoostingMachine\n",
    "from Tree.node import Leaf\n",
    "\n",
    "\n",
    "from sklearn.ensemble import GradientBoostingRegressor,GradientBoostingClassifier"
   ]
  },
  {
   "cell_type": "markdown",
   "metadata": {},
   "source": [
    "# Config"
   ]
  },
  {
   "cell_type": "code",
   "execution_count": 3,
   "metadata": {},
   "outputs": [],
   "source": [
    "A1 = 2\n",
    "A2 = 5\n",
    "SIGMNA = 3\n",
    "N_ROWS = 10**3\n",
    "VAL_RATIO = 0.15\n",
    "CATEGORICAL_DISTRIBUTION = 'uniform'\n",
    "CATEGORY_SIZE = 50\n",
    "CATEGORY_COLUMN_NAME = 'category'\n",
    "Y_COL_NAME = 'y'\n",
    "LEFT_GROUP = [i for i in range(CATEGORY_SIZE//2)]\n",
    "SEED = 5\n",
    "np.random.seed(SEED)"
   ]
  },
  {
   "cell_type": "code",
   "execution_count": 4,
   "metadata": {},
   "outputs": [],
   "source": [
    "MAX_DEPTH = 3\n",
    "N_ESTIMATORS = 100\n",
    "LEARNING_RATE = 0.1"
   ]
  },
  {
   "cell_type": "code",
   "execution_count": 5,
   "metadata": {},
   "outputs": [],
   "source": [
    "mse_val = {}"
   ]
  },
  {
   "cell_type": "markdown",
   "metadata": {},
   "source": [
    "# Create simulated data\n",
    "$$ y = a_1 \\cdot x_1 + a_2 \\cdot I(x_2 \\in LEFT\\_GROUP) + \\sigma $$\n",
    "\n",
    "$$ x1 - N(0,1) $$"
   ]
  },
  {
   "cell_type": "code",
   "execution_count": 6,
   "metadata": {},
   "outputs": [],
   "source": [
    "def create_x_y(category_size):\n",
    "    X = pd.DataFrame()\n",
    "    X[CATEGORY_COLUMN_NAME] = np.random.randint(0, CATEGORY_SIZE, N_ROWS)\n",
    "    X['x1'] = np.random.randn(N_ROWS)\n",
    "    X[CATEGORY_COLUMN_NAME] = X[CATEGORY_COLUMN_NAME].astype('category')\n",
    "    sigma = SIGMNA*np.random.randn(N_ROWS)\n",
    "    y = A1*X['x1'] + A2*X[CATEGORY_COLUMN_NAME].isin(LEFT_GROUP) + sigma\n",
    "    return X,y"
   ]
  },
  {
   "cell_type": "code",
   "execution_count": 7,
   "metadata": {},
   "outputs": [],
   "source": [
    "from xgboost.core import Booster\n",
    "def compute_ntrees_nleaves(gbm):\n",
    "    total_number_of_trees = 0\n",
    "    total_number_of_leaves = 0\n",
    "    if isinstance(gbm,GradientBoostingMachine):\n",
    "        for tree in gbm.trees:\n",
    "            if not isinstance(tree.root, Leaf):\n",
    "                total_number_of_trees += 1\n",
    "                total_number_of_leaves += tree.n_leaves\n",
    "    elif isinstance(gbm,GradientBoostingClassifier) or isinstance(gbm,GradientBoostingRegressor):\n",
    "        total_number_of_trees = gbm.n_estimators_\n",
    "        for tree in gbm.estimators_:\n",
    "            total_number_of_leaves += tree[0].get_n_leaves()\n",
    "    elif isinstance(gbm, Booster):\n",
    "        df = gbm.trees_to_dataframe()\n",
    "        total_number_of_leaves = df[df['Feature'] == 'Leaf'].shape[0]\n",
    "        total_number_of_trees = df[df['Feature'] == 'Leaf']['Tree'].max()\n",
    "\n",
    "    print(F'number of trees is {total_number_of_trees}')\n",
    "    print(F'number of leaves is {total_number_of_leaves}')"
   ]
  },
  {
   "cell_type": "markdown",
   "metadata": {},
   "source": [
    "# OUR IMPLEMENTATION\n",
    "## KFOLD"
   ]
  },
  {
   "cell_type": "code",
   "execution_count": 8,
   "metadata": {},
   "outputs": [
    {
     "data": {
      "text/plain": [
       "category    0.542675\n",
       "x1          0.457325\n",
       "dtype: float64"
      ]
     },
     "execution_count": 8,
     "metadata": {},
     "output_type": "execute_result"
    }
   ],
   "source": [
    "from sklearn.model_selection import train_test_split\n",
    "X,y = create_x_y(CATEGORY_SIZE)\n",
    "X, X_val, y, y_val = train_test_split(X, y, test_size=VAL_RATIO, random_state=42)\n",
    "kfold_df = X.copy()\n",
    "kfold_df[Y_COL_NAME] = y\n",
    "kfold_gbm = CartGradientBoostingRegressorKfold(Y_COL_NAME, max_depth=MAX_DEPTH, n_estimators=N_ESTIMATORS, learning_rate=LEARNING_RATE)\n",
    "kfold_gbm.fit(kfold_df)\n",
    "fi = pd.Series(kfold_gbm.compute_feature_importance()).sort_index()\n",
    "fi/= fi.sum()\n",
    "fi"
   ]
  },
  {
   "cell_type": "code",
   "execution_count": 9,
   "metadata": {},
   "outputs": [
    {
     "name": "stderr",
     "output_type": "stream",
     "text": [
      "C:\\Users\\afeki\\Anaconda3\\lib\\site-packages\\networkx\\drawing\\nx_pylab.py:579: MatplotlibDeprecationWarning: \n",
      "The iterable function was deprecated in Matplotlib 3.1 and will be removed in 3.3. Use np.iterable instead.\n",
      "  if not cb.iterable(width):\n"
     ]
    },
    {
     "data": {
      "image/png": "[encoded data removed]",
      "text/plain": [
       "<Figure size 432x288 with 1 Axes>"
      ]
     },
     "metadata": {},
     "output_type": "display_data"
    }
   ],
   "source": [
    "from Tree.tree_visualizer import TreeVisualizer\n",
    "tree_vis = TreeVisualizer()\n",
    "tree_vis.plot(kfold_gbm.trees[0].root)"
   ]
  },
  {
   "cell_type": "code",
   "execution_count": 10,
   "metadata": {},
   "outputs": [
    {
     "name": "stdout",
     "output_type": "stream",
     "text": [
      "number of trees is 17\n",
      "number of leaves is 59\n"
     ]
    }
   ],
   "source": [
    "compute_ntrees_nleaves(kfold_gbm)"
   ]
  },
  {
   "cell_type": "code",
   "execution_count": 11,
   "metadata": {},
   "outputs": [],
   "source": [
    "mse_val['Ours_KFOLD'] = np.mean(np.square(y_val -kfold_gbm.predict(X_val)))"
   ]
  },
  {
   "cell_type": "markdown",
   "metadata": {},
   "source": [
    "## Vanilla gradient boosting regressor"
   ]
  },
  {
   "cell_type": "code",
   "execution_count": 12,
   "metadata": {},
   "outputs": [
    {
     "data": {
      "text/plain": [
       "category    0.609393\n",
       "x1          0.390607\n",
       "dtype: float64"
      ]
     },
     "execution_count": 12,
     "metadata": {},
     "output_type": "execute_result"
    }
   ],
   "source": [
    "vanilla_gbm = CartGradientBoostingRegressor(Y_COL_NAME, max_depth=MAX_DEPTH, n_estimators=N_ESTIMATORS, learning_rate=LEARNING_RATE)\n",
    "vanilla_gbm.fit(kfold_df)\n",
    "fi = pd.Series(vanilla_gbm.compute_feature_importance()).sort_index()\n",
    "fi/= fi.sum()\n",
    "fi"
   ]
  },
  {
   "cell_type": "code",
   "execution_count": 13,
   "metadata": {},
   "outputs": [
    {
     "name": "stdout",
     "output_type": "stream",
     "text": [
      "number of trees is 100\n",
      "number of leaves is 395\n"
     ]
    }
   ],
   "source": [
    "compute_ntrees_nleaves(vanilla_gbm)"
   ]
  },
  {
   "cell_type": "code",
   "execution_count": 14,
   "metadata": {},
   "outputs": [
    {
     "data": {
      "image/png": "[encoded data removed]",
      "text/plain": [
       "<Figure size 432x288 with 1 Axes>"
      ]
     },
     "metadata": {},
     "output_type": "display_data"
    }
   ],
   "source": [
    "tree_vis = TreeVisualizer()\n",
    "tree_vis.plot(vanilla_gbm.trees[0].root)"
   ]
  },
  {
   "cell_type": "code",
   "execution_count": 15,
   "metadata": {},
   "outputs": [],
   "source": [
    "mse_val['Ours_Vanilla'] = np.mean(np.square(y_val -vanilla_gbm.predict(X_val)))"
   ]
  },
  {
   "cell_type": "markdown",
   "metadata": {},
   "source": [
    "## Ours Mean Imputing"
   ]
  },
  {
   "cell_type": "code",
   "execution_count": 16,
   "metadata": {},
   "outputs": [
    {
     "data": {
      "text/plain": [
       "category    0.553345\n",
       "x1          0.446655\n",
       "dtype: float64"
      ]
     },
     "execution_count": 16,
     "metadata": {},
     "output_type": "execute_result"
    }
   ],
   "source": [
    "category_to_mean = kfold_df[[CATEGORY_COLUMN_NAME,'y']].groupby(CATEGORY_COLUMN_NAME)['y'].mean().to_dict()\n",
    "ours_mean_df = kfold_df.copy()\n",
    "ours_mean_df[CATEGORY_COLUMN_NAME] = ours_mean_df[CATEGORY_COLUMN_NAME].map(category_to_mean)\n",
    "ours_mean_df[CATEGORY_COLUMN_NAME] = ours_mean_df[CATEGORY_COLUMN_NAME].astype('float')\n",
    "ours_mean_gbm = CartGradientBoostingRegressor(Y_COL_NAME, max_depth=MAX_DEPTH, n_estimators=N_ESTIMATORS, learning_rate=LEARNING_RATE)\n",
    "ours_mean_gbm.fit(ours_mean_df)\n",
    "fi = pd.Series(ours_mean_gbm.compute_feature_importance()).sort_index()\n",
    "fi/= fi.sum()\n",
    "fi"
   ]
  },
  {
   "cell_type": "code",
   "execution_count": 17,
   "metadata": {},
   "outputs": [],
   "source": [
    "X_val_mean_imputed = X_val.copy()\n",
    "X_val_mean_imputed[CATEGORY_COLUMN_NAME] = X_val_mean_imputed[CATEGORY_COLUMN_NAME].map(category_to_mean)\n",
    "X_val_mean_imputed[CATEGORY_COLUMN_NAME].astype('float')\n",
    "mse_val['Ours_MeanImputing'] = np.mean(np.square(y_val -ours_mean_gbm.predict(X_val_mean_imputed)))"
   ]
  },
  {
   "cell_type": "code",
   "execution_count": 18,
   "metadata": {},
   "outputs": [
    {
     "data": {
      "image/png": "[encoded data removed]",
      "text/plain": [
       "<Figure size 432x288 with 1 Axes>"
      ]
     },
     "metadata": {},
     "output_type": "display_data"
    }
   ],
   "source": [
    "tree_vis = TreeVisualizer()\n",
    "tree_vis.plot(ours_mean_gbm.trees[0].root)"
   ]
  },
  {
   "cell_type": "markdown",
   "metadata": {},
   "source": [
    "## SKLEARN - One Hot"
   ]
  },
  {
   "cell_type": "code",
   "execution_count": 19,
   "metadata": {},
   "outputs": [],
   "source": [
    "# clf = GradientBoostingRegressor(n_estimators=  N_ESTIMATORS, max_depth = MAX_DEPTH - 1,learning_rate = LEARNING_RATE)\n",
    "# clf.fit(pd.get_dummies(X), y)\n",
    "# fi = pd.Series(clf.feature_importances_, index = pd.get_dummies(X).columns)\n",
    "# print(F\"x1 feature importance is: {np.round(fi['x1'],3)}\")\n",
    "# compute_ntrees_nleaves(clf)"
   ]
  },
  {
   "cell_type": "code",
   "execution_count": 20,
   "metadata": {},
   "outputs": [],
   "source": [
    "# TODO mse_val['Ours_Vanilla'] = np.mean(np.square(y_val -clf.predict(X_val)))"
   ]
  },
  {
   "cell_type": "markdown",
   "metadata": {},
   "source": [
    "## SKLEARN - Mean Imputing"
   ]
  },
  {
   "cell_type": "code",
   "execution_count": 21,
   "metadata": {},
   "outputs": [
    {
     "name": "stdout",
     "output_type": "stream",
     "text": [
      "x1 feature importance is: 0.447\n",
      "number of trees is 100\n",
      "number of leaves is 399\n"
     ]
    }
   ],
   "source": [
    "X_m = X.copy()\n",
    "X_m[CATEGORY_COLUMN_NAME] = X_m[CATEGORY_COLUMN_NAME].map(category_to_mean)\n",
    "X_m[CATEGORY_COLUMN_NAME] = X_m[CATEGORY_COLUMN_NAME].astype('float')\n",
    "clf = GradientBoostingRegressor(n_estimators=  N_ESTIMATORS, max_depth = MAX_DEPTH - 1,learning_rate = LEARNING_RATE)\n",
    "clf.fit(X_m, y)\n",
    "fi =pd.Series(clf.feature_importances_, index = X_m.columns)\n",
    "print(F\"x1 feature importance is: {np.round(fi['x1'],3)}\")\n",
    "compute_ntrees_nleaves(clf)"
   ]
  },
  {
   "cell_type": "code",
   "execution_count": 22,
   "metadata": {},
   "outputs": [],
   "source": [
    "mse_val['Sklearn_MeanImputing'] = np.mean(np.square(y_val -clf.predict(X_val_mean_imputed)))"
   ]
  },
  {
   "cell_type": "markdown",
   "metadata": {},
   "source": [
    "## XGBOOST - One Hot"
   ]
  },
  {
   "cell_type": "code",
   "execution_count": 23,
   "metadata": {},
   "outputs": [],
   "source": [
    "import xgboost as xgb"
   ]
  },
  {
   "cell_type": "code",
   "execution_count": 24,
   "metadata": {},
   "outputs": [],
   "source": [
    "# dtrain = xgb.DMatrix(pd.get_dummies(X), label=y)\n",
    "# param = {'max_depth': MAX_DEPTH - 1, 'eta': LEARNING_RATE, 'objective': 'reg:linear'}\n",
    "# num_round = N_ESTIMATORS\n",
    "# bst = xgb.train(param, dtrain, num_round)"
   ]
  },
  {
   "cell_type": "code",
   "execution_count": 25,
   "metadata": {},
   "outputs": [],
   "source": [
    "# fi = pd.Series(bst.get_score(importance_type='gain'))\n",
    "# fi /= fi.sum()\n",
    "# print(F\"x1 feature importance is: {np.round(fi['x1'],3)}\")\n",
    "# compute_ntrees_nleaves(bst)"
   ]
  },
  {
   "cell_type": "code",
   "execution_count": 26,
   "metadata": {},
   "outputs": [],
   "source": [
    "# xgb.plot_tree(bst,num_trees= 0)\n",
    "# plt.rcParams['figure.figsize'] = [5, 20]\n",
    "# plt.show()"
   ]
  },
  {
   "cell_type": "markdown",
   "metadata": {},
   "source": [
    "## XGBOOST - Mean Imputing"
   ]
  },
  {
   "cell_type": "code",
   "execution_count": 27,
   "metadata": {},
   "outputs": [
    {
     "name": "stdout",
     "output_type": "stream",
     "text": [
      "[18:44:18] WARNING: C:/Users/Administrator/workspace/xgboost-win64_release_1.0.0/src/objective/regression_obj.cu:167: reg:linear is now deprecated in favor of reg:squarederror.\n"
     ]
    }
   ],
   "source": [
    "X_m[CATEGORY_COLUMN_NAME] = X_m[CATEGORY_COLUMN_NAME].astype('float')\n",
    "dtrain = xgb.DMatrix(X_m, label=y)\n",
    "param = {'max_depth': MAX_DEPTH - 1, 'eta': LEARNING_RATE, 'objective': 'reg:linear'}\n",
    "num_round = N_ESTIMATORS\n",
    "bst = xgb.train(param, dtrain, num_round)"
   ]
  },
  {
   "cell_type": "code",
   "execution_count": 28,
   "metadata": {},
   "outputs": [
    {
     "name": "stdout",
     "output_type": "stream",
     "text": [
      "x1 feature importance is: 0.295\n",
      "number of trees is 99\n",
      "number of leaves is 400\n"
     ]
    }
   ],
   "source": [
    "fi = pd.Series(bst.get_score(importance_type='gain'))\n",
    "fi /= fi.sum()\n",
    "print(F\"x1 feature importance is: {np.round(fi['x1'],3)}\")\n",
    "compute_ntrees_nleaves(bst)"
   ]
  },
  {
   "cell_type": "code",
   "execution_count": 29,
   "metadata": {},
   "outputs": [],
   "source": [
    "X_val_mean_imputed[CATEGORY_COLUMN_NAME] = X_val_mean_imputed[CATEGORY_COLUMN_NAME].astype('float')\n",
    "dval = xgb.DMatrix(X_val_mean_imputed)\n",
    "mse_val['XGBOOST_MeanImputing'] = np.mean(np.square(y_val -bst.predict(dval)))"
   ]
  },
  {
   "cell_type": "markdown",
   "metadata": {},
   "source": [
    "## Catboost"
   ]
  },
  {
   "cell_type": "code",
   "execution_count": 30,
   "metadata": {},
   "outputs": [
    {
     "name": "stderr",
     "output_type": "stream",
     "text": [
      "Enabling notebook extension jupyter-js-widgets/extension...\n",
      "      - Validating: ok\n"
     ]
    }
   ],
   "source": [
    "# !pip install ipywidgets\n",
    "!jupyter nbextension enable --py widgetsnbextension"
   ]
  },
  {
   "cell_type": "code",
   "execution_count": 31,
   "metadata": {},
   "outputs": [
    {
     "data": {
      "text/plain": [
       "<catboost.core.CatBoostRegressor at 0x192dd4631c8>"
      ]
     },
     "execution_count": 31,
     "metadata": {},
     "output_type": "execute_result"
    }
   ],
   "source": [
    "from catboost import Pool, CatBoostRegressor\n",
    "# initialize data\n",
    "# initialize Pool\n",
    "train_pool = Pool(X, \n",
    "                  y, \n",
    "                  cat_features=[0])\n",
    "\n",
    "# specify the training parameters \n",
    "model = CatBoostRegressor(iterations=100, \n",
    "                          depth=3, \n",
    "                          learning_rate=0.1, \n",
    "                          loss_function='RMSE',logging_level = 'Silent')\n",
    "#train the model\n",
    "model.fit(train_pool)"
   ]
  },
  {
   "cell_type": "code",
   "execution_count": 32,
   "metadata": {},
   "outputs": [
    {
     "name": "stdout",
     "output_type": "stream",
     "text": [
      "['category', 'x1']\n"
     ]
    },
    {
     "data": {
      "text/plain": [
       "array([43.77405559, 56.22594441])"
      ]
     },
     "execution_count": 32,
     "metadata": {},
     "output_type": "execute_result"
    }
   ],
   "source": [
    "print(model.feature_names_)\n",
    "model.feature_importances_"
   ]
  },
  {
   "cell_type": "code",
   "execution_count": 33,
   "metadata": {},
   "outputs": [],
   "source": [
    "val_pool = Pool(X_val, \n",
    "                  cat_features=[0])"
   ]
  },
  {
   "cell_type": "code",
   "execution_count": 34,
   "metadata": {},
   "outputs": [],
   "source": [
    "mse_val['CATBOOST_Vanilla'] = np.mean(np.square(y_val -model.predict(val_pool)))"
   ]
  },
  {
   "cell_type": "code",
   "execution_count": 35,
   "metadata": {},
   "outputs": [
    {
     "data": {
      "text/plain": [
       "Ours_KFOLD              11.206137\n",
       "Ours_Vanilla            11.112294\n",
       "Ours_MeanImputing       10.804479\n",
       "Sklearn_MeanImputing    10.805529\n",
       "XGBOOST_MeanImputing    10.656057\n",
       "CATBOOST_Vanilla        10.194455\n",
       "dtype: float64"
      ]
     },
     "execution_count": 35,
     "metadata": {},
     "output_type": "execute_result"
    }
   ],
   "source": [
    "pd.Series(mse_val)"
   ]
  }
 ],
 "metadata": {
  "kernelspec": {
   "display_name": "Python 3",
   "language": "python",
   "name": "python3"
  },
  "language_info": {
   "codemirror_mode": {
    "name": "ipython",
    "version": 3
   },
   "file_extension": ".py",
   "mimetype": "text/x-python",
   "name": "python",
   "nbconvert_exporter": "python",
   "pygments_lexer": "ipython3",
   "version": "3.7.4"
  }
 },
 "nbformat": 4,
 "nbformat_minor": 4
}
