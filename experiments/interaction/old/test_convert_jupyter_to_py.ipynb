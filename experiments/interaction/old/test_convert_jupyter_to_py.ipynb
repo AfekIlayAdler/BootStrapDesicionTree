{
 "cells": [
  {
   "cell_type": "code",
   "execution_count": 4,
   "metadata": {},
   "outputs": [
    {
     "name": "stdout",
     "output_type": "stream",
     "text": [
      "gain_permutation.ipynb\n",
      "gain_permutation.py\n"
     ]
    }
   ],
   "source": [
    "# import ipynb-py-convert\n",
    "for key,value in {\"gain_permutation.ipynb\":\"gain_permutation.py\"}.items():\n",
    "    print(key)\n",
    "    print(value)\n",
    "    !ipynb-py-convert {key} {value}"
   ]
  },
  {
   "cell_type": "code",
   "execution_count": 2,
   "metadata": {},
   "outputs": [],
   "source": [
    "# !ipynb-py-convert \"gain_permutation.ipynb\" \"gain_permutation.py\""
   ]
  }
 ],
 "metadata": {
  "kernelspec": {
   "display_name": "Python 3",
   "language": "python",
   "name": "python3"
  },
  "language_info": {
   "codemirror_mode": {
    "name": "ipython",
    "version": 3
   },
   "file_extension": ".py",
   "mimetype": "text/x-python",
   "name": "python",
   "nbconvert_exporter": "python",
   "pygments_lexer": "ipython3",
   "version": "3.7.6"
  }
 },
 "nbformat": 4,
 "nbformat_minor": 4
}
