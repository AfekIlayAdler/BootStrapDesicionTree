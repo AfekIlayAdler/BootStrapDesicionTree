{
 "cells": [
  {
   "cell_type": "code",
   "execution_count": 1,
   "metadata": {},
   "outputs": [],
   "source": [
    "import numpy as np\n",
    "import pandas as pd \n",
    "import matplotlib.pyplot as plt\n",
    "%matplotlib inline\n",
    "\n",
    "from os import chdir \n",
    "chdir('C:\\\\Users\\\\afeki\\\\Desktop\\\\Code\\\\BootStrapDesicionTree\\\\')"
   ]
  },
  {
   "cell_type": "code",
   "execution_count": 2,
   "metadata": {},
   "outputs": [],
   "source": [
    "from gradient_boosting_trees.gradient_boosting_regressor import CartGradientBoostingRegressor, \\\n",
    "    CartGradientBoostingRegressorKfold"
   ]
  },
  {
   "cell_type": "markdown",
   "metadata": {},
   "source": [
    "# Config"
   ]
  },
  {
   "cell_type": "code",
   "execution_count": 3,
   "metadata": {},
   "outputs": [],
   "source": [
    "A1 = 2\n",
    "A2 = 5\n",
    "SIGMNA = 3\n",
    "N_ROWS = 10**3\n",
    "CATEGORICAL_DISTRIBUTION = 'uniform'\n",
    "CATEGORY_SIZE = 50\n",
    "CATEGORY_COLUMN_NAME = 'category'\n",
    "Y_COL_NAME = 'y'\n",
    "LEFT_GROUP = [i for i in range(CATEGORY_SIZE//2)]\n",
    "SEED = 3\n",
    "np.random.seed(SEED)"
   ]
  },
  {
   "cell_type": "code",
   "execution_count": 4,
   "metadata": {},
   "outputs": [],
   "source": [
    "MAX_DEPTH = 4\n",
    "N_ESTIMATORS = 100\n",
    "LEARNING_RATE = 0.1"
   ]
  },
  {
   "cell_type": "markdown",
   "metadata": {},
   "source": [
    "# Create simulated data\n",
    "$$ y = a_1 \\cdot x_1 + a_2 \\cdot I(x_2 \\in LEFT\\_GROUP) + \\sigma $$\n",
    "\n",
    "$$ x1 - N(0,1) $$"
   ]
  },
  {
   "cell_type": "code",
   "execution_count": 5,
   "metadata": {},
   "outputs": [],
   "source": [
    "X = pd.DataFrame()\n",
    "X[CATEGORY_COLUMN_NAME] = np.random.randint(0, CATEGORY_SIZE, N_ROWS)\n",
    "X['x1'] = np.random.randn(N_ROWS)\n",
    "X[CATEGORY_COLUMN_NAME] = X[CATEGORY_COLUMN_NAME].astype('category')\n",
    "sigma = SIGMNA*np.random.randn(N_ROWS)\n",
    "y = A1*X['x1'] + A2*X[CATEGORY_COLUMN_NAME].isin(LEFT_GROUP) + sigma"
   ]
  },
  {
   "cell_type": "code",
   "execution_count": 6,
   "metadata": {},
   "outputs": [
    {
     "data": {
      "text/html": [
       "<div>\n",
       "<style scoped>\n",
       "    .dataframe tbody tr th:only-of-type {\n",
       "        vertical-align: middle;\n",
       "    }\n",
       "\n",
       "    .dataframe tbody tr th {\n",
       "        vertical-align: top;\n",
       "    }\n",
       "\n",
       "    .dataframe thead th {\n",
       "        text-align: right;\n",
       "    }\n",
       "</style>\n",
       "<table border=\"1\" class=\"dataframe\">\n",
       "  <thead>\n",
       "    <tr style=\"text-align: right;\">\n",
       "      <th></th>\n",
       "      <th>category</th>\n",
       "      <th>x1</th>\n",
       "    </tr>\n",
       "  </thead>\n",
       "  <tbody>\n",
       "    <tr>\n",
       "      <td>0</td>\n",
       "      <td>42</td>\n",
       "      <td>1.412970</td>\n",
       "    </tr>\n",
       "    <tr>\n",
       "      <td>1</td>\n",
       "      <td>24</td>\n",
       "      <td>-0.925253</td>\n",
       "    </tr>\n",
       "    <tr>\n",
       "      <td>2</td>\n",
       "      <td>3</td>\n",
       "      <td>-0.645377</td>\n",
       "    </tr>\n",
       "    <tr>\n",
       "      <td>3</td>\n",
       "      <td>8</td>\n",
       "      <td>0.685228</td>\n",
       "    </tr>\n",
       "    <tr>\n",
       "      <td>4</td>\n",
       "      <td>0</td>\n",
       "      <td>0.031314</td>\n",
       "    </tr>\n",
       "  </tbody>\n",
       "</table>\n",
       "</div>"
      ],
      "text/plain": [
       "  category        x1\n",
       "0       42  1.412970\n",
       "1       24 -0.925253\n",
       "2        3 -0.645377\n",
       "3        8  0.685228\n",
       "4        0  0.031314"
      ]
     },
     "execution_count": 6,
     "metadata": {},
     "output_type": "execute_result"
    }
   ],
   "source": [
    "X.head()"
   ]
  },
  {
   "cell_type": "markdown",
   "metadata": {},
   "source": [
    "## KFOLD"
   ]
  },
  {
   "cell_type": "code",
   "execution_count": 7,
   "metadata": {},
   "outputs": [
    {
     "name": "stdout",
     "output_type": "stream",
     "text": [
      "tree is bark\n",
      "tree is bark\n",
      "tree is bark\n",
      "tree is bark\n",
      "tree is bark\n",
      "tree is bark\n",
      "tree is bark\n",
      "tree is bark\n",
      "tree is bark\n",
      "tree is bark\n",
      "tree is bark\n",
      "tree is bark\n",
      "tree is bark\n",
      "tree is bark\n",
      "tree is bark\n",
      "tree is bark\n",
      "tree is bark\n",
      "tree is bark\n",
      "tree is bark\n",
      "tree is bark\n",
      "tree is bark\n",
      "tree is bark\n",
      "tree is bark\n",
      "tree is bark\n",
      "tree is bark\n",
      "tree is bark\n",
      "tree is bark\n",
      "tree is bark\n",
      "tree is bark\n",
      "tree is bark\n",
      "tree is bark\n",
      "tree is bark\n",
      "tree is bark\n",
      "tree is bark\n",
      "tree is bark\n",
      "tree is bark\n",
      "tree is bark\n",
      "tree is bark\n",
      "tree is bark\n",
      "tree is bark\n",
      "tree is bark\n",
      "tree is bark\n",
      "tree is bark\n",
      "tree is bark\n",
      "tree is bark\n",
      "tree is bark\n",
      "tree is bark\n",
      "tree is bark\n",
      "tree is bark\n",
      "tree is bark\n",
      "tree is bark\n",
      "tree is bark\n",
      "tree is bark\n",
      "tree is bark\n",
      "tree is bark\n",
      "tree is bark\n",
      "tree is bark\n",
      "tree is bark\n",
      "tree is bark\n",
      "tree is bark\n",
      "tree is bark\n",
      "tree is bark\n",
      "tree is bark\n",
      "tree is bark\n",
      "tree is bark\n",
      "tree is bark\n",
      "tree is bark\n",
      "tree is bark\n",
      "tree is bark\n",
      "tree is bark\n",
      "tree is bark\n",
      "tree is bark\n",
      "tree is bark\n",
      "tree is bark\n",
      "tree is bark\n",
      "tree is bark\n",
      "tree is bark\n",
      "tree is bark\n",
      "tree is bark\n",
      "tree is bark\n",
      "tree is bark\n",
      "tree is bark\n",
      "tree is bark\n",
      "tree is bark\n",
      "tree is bark\n"
     ]
    },
    {
     "data": {
      "text/plain": [
       "category    0.553501\n",
       "x1          0.446499\n",
       "dtype: float64"
      ]
     },
     "execution_count": 7,
     "metadata": {},
     "output_type": "execute_result"
    }
   ],
   "source": [
    "kfold_df = X.copy()\n",
    "kfold_df[Y_COL_NAME] = y\n",
    "kfold_gbm = CartGradientBoostingRegressorKfold(Y_COL_NAME, max_depth=MAX_DEPTH, n_estimators=N_ESTIMATORS, learning_rate=LEARNING_RATE)\n",
    "kfold_gbm.fit(kfold_df)\n",
    "fi = pd.Series(kfold_gbm.compute_feature_importance()).sort_index()\n",
    "fi/fi.sum()"
   ]
  },
  {
   "cell_type": "code",
   "execution_count": 8,
   "metadata": {},
   "outputs": [
    {
     "name": "stderr",
     "output_type": "stream",
     "text": [
      "C:\\Users\\afeki\\Anaconda3\\lib\\site-packages\\networkx\\drawing\\nx_pylab.py:579: MatplotlibDeprecationWarning: \n",
      "The iterable function was deprecated in Matplotlib 3.1 and will be removed in 3.3. Use np.iterable instead.\n",
      "  if not cb.iterable(width):\n"
     ]
    },
    {
     "data": {
      "image/png": "[encoded data removed]",
      "text/plain": [
       "<Figure size 432x288 with 1 Axes>"
      ]
     },
     "metadata": {},
     "output_type": "display_data"
    }
   ],
   "source": [
    "from Tree.tree_visualizer import TreeVisualizer\n",
    "tree_vis = TreeVisualizer()\n",
    "tree_vis.plot(kfold_gbm.trees[0].root)"
   ]
  },
  {
   "cell_type": "markdown",
   "metadata": {},
   "source": [
    "## SKLEARN - One Hot"
   ]
  },
  {
   "cell_type": "code",
   "execution_count": 9,
   "metadata": {},
   "outputs": [
    {
     "data": {
      "text/plain": [
       "x1             0.565802\n",
       "category_0     0.008539\n",
       "category_1     0.011469\n",
       "category_2     0.006475\n",
       "category_3     0.002323\n",
       "category_4     0.005736\n",
       "category_5     0.010316\n",
       "category_6     0.003365\n",
       "category_7     0.007878\n",
       "category_8     0.004782\n",
       "category_9     0.000618\n",
       "category_10    0.005800\n",
       "category_11    0.009004\n",
       "category_12    0.008102\n",
       "category_13    0.005416\n",
       "category_14    0.009491\n",
       "category_15    0.007874\n",
       "category_16    0.006174\n",
       "category_17    0.003665\n",
       "category_18    0.004499\n",
       "category_19    0.014362\n",
       "category_20    0.019441\n",
       "category_21    0.011857\n",
       "category_22    0.007360\n",
       "category_23    0.002148\n",
       "category_24    0.021660\n",
       "category_25    0.020697\n",
       "category_26    0.000000\n",
       "category_27    0.021328\n",
       "category_28    0.009934\n",
       "category_29    0.000000\n",
       "category_30    0.016332\n",
       "category_31    0.005664\n",
       "category_32    0.013860\n",
       "category_33    0.006822\n",
       "category_34    0.013645\n",
       "category_35    0.008816\n",
       "category_36    0.016086\n",
       "category_37    0.019299\n",
       "category_38    0.011834\n",
       "category_39    0.002983\n",
       "category_40    0.000792\n",
       "category_41    0.005160\n",
       "category_42    0.006761\n",
       "category_43    0.017402\n",
       "category_44    0.018020\n",
       "category_45    0.000807\n",
       "category_46    0.000000\n",
       "category_47    0.000494\n",
       "category_48    0.006974\n",
       "category_49    0.012133\n",
       "dtype: float64"
      ]
     },
     "execution_count": 9,
     "metadata": {},
     "output_type": "execute_result"
    }
   ],
   "source": [
    "from sklearn.ensemble import GradientBoostingRegressor\n",
    "clf = GradientBoostingRegressor(n_estimators=  N_ESTIMATORS, max_depth = MAX_DEPTH - 1,learning_rate = LEARNING_RATE)\n",
    "clf.fit(pd.get_dummies(X), y)\n",
    "pd.Series(clf.feature_importances_, index = pd.get_dummies(X).columns)"
   ]
  },
  {
   "cell_type": "markdown",
   "metadata": {},
   "source": [
    "## SKLEARN - Mean Imputing"
   ]
  },
  {
   "cell_type": "code",
   "execution_count": 10,
   "metadata": {},
   "outputs": [
    {
     "data": {
      "text/plain": [
       "category    0.508933\n",
       "x1          0.491067\n",
       "dtype: float64"
      ]
     },
     "execution_count": 10,
     "metadata": {},
     "output_type": "execute_result"
    }
   ],
   "source": [
    "category_to_mean = kfold_df[[CATEGORY_COLUMN_NAME,'y']].groupby(CATEGORY_COLUMN_NAME)['y'].mean().to_dict()\n",
    "X_m = X.copy()\n",
    "X_m[CATEGORY_COLUMN_NAME] = X_m[CATEGORY_COLUMN_NAME].map(category_to_mean)\n",
    "X_m[CATEGORY_COLUMN_NAME].astype('float')\n",
    "clf = GradientBoostingRegressor(n_estimators=  N_ESTIMATORS, max_depth = MAX_DEPTH - 1,learning_rate = LEARNING_RATE)\n",
    "clf.fit(X_m, y)\n",
    "pd.Series(clf.feature_importances_, index = X_m.columns)"
   ]
  },
  {
   "cell_type": "markdown",
   "metadata": {},
   "source": [
    "## XGBOOST - One Hot"
   ]
  },
  {
   "cell_type": "code",
   "execution_count": 11,
   "metadata": {},
   "outputs": [],
   "source": [
    "import xgboost as xgb"
   ]
  },
  {
   "cell_type": "code",
   "execution_count": 12,
   "metadata": {},
   "outputs": [
    {
     "name": "stdout",
     "output_type": "stream",
     "text": [
      "[19:14:12] WARNING: C:/Users/Administrator/workspace/xgboost-win64_release_1.0.0/src/objective/regression_obj.cu:167: reg:linear is now deprecated in favor of reg:squarederror.\n"
     ]
    }
   ],
   "source": [
    "dtrain = xgb.DMatrix(pd.get_dummies(X), label=y)\n",
    "param = {'max_depth': MAX_DEPTH - 1, 'eta': LEARNING_RATE, 'objective': 'reg:linear'}\n",
    "num_round = N_ESTIMATORS\n",
    "bst = xgb.train(param, dtrain, num_round)"
   ]
  },
  {
   "cell_type": "code",
   "execution_count": 13,
   "metadata": {},
   "outputs": [
    {
     "data": {
      "image/png": "[encoded data removed]",
      "text/plain": [
       "<Figure size 432x288 with 1 Axes>"
      ]
     },
     "metadata": {
      "needs_background": "light"
     },
     "output_type": "display_data"
    }
   ],
   "source": [
    "xgb.plot_importance(bst)\n",
    "plt.show()"
   ]
  },
  {
   "cell_type": "code",
   "execution_count": 14,
   "metadata": {},
   "outputs": [
    {
     "data": {
      "text/plain": [
       "{'x1': 85.11411680499711,\n",
       " 'category_27': 113.1035821909091,\n",
       " 'category_20': 88.38643237499998,\n",
       " 'category_24': 103.33416131818181,\n",
       " 'category_48': 104.6764003,\n",
       " 'category_43': 104.23638500000001,\n",
       " 'category_16': 53.5707138,\n",
       " 'category_37': 83.58197846923078,\n",
       " 'category_14': 57.48969608888889,\n",
       " 'category_0': 55.95907104285714,\n",
       " 'category_5': 70.9041156625,\n",
       " 'category_25': 111.36037933636362,\n",
       " 'category_44': 116.69687953333333,\n",
       " 'category_21': 72.60054360000001,\n",
       " 'category_36': 98.90028639999998,\n",
       " 'category_30': 97.38531779,\n",
       " 'category_34': 89.94210059999999,\n",
       " 'category_32': 95.49792642222222,\n",
       " 'category_41': 76.04951477499999,\n",
       " 'category_12': 64.14706802857144,\n",
       " 'category_49': 99.51610715714286,\n",
       " 'category_28': 86.41901895,\n",
       " 'category_19': 81.67775228,\n",
       " 'category_38': 94.9047531,\n",
       " 'category_42': 74.50003819999999,\n",
       " 'category_1': 80.0541849375,\n",
       " 'category_11': 71.63214824285716,\n",
       " 'category_33': 76.90052483999999,\n",
       " 'category_35': 86.20674078333333,\n",
       " 'category_31': 58.82889813333333,\n",
       " 'category_7': 63.0012049,\n",
       " 'category_15': 60.66315895714286,\n",
       " 'category_2': 58.231948200000005,\n",
       " 'category_22': 58.13528334285714,\n",
       " 'category_10': 55.894507100000006,\n",
       " 'category_23': 38.82244873333334,\n",
       " 'category_47': 23.7384046,\n",
       " 'category_4': 53.850272499999996,\n",
       " 'category_13': 53.88883362,\n",
       " 'category_8': 51.938793940000004,\n",
       " 'category_18': 52.305949379999994,\n",
       " 'category_17': 48.467521649999995,\n",
       " 'category_6': 47.05362035,\n",
       " 'category_3': 52.53416696666667,\n",
       " 'category_39': 84.7021866,\n",
       " 'category_45': 40.2202148,\n",
       " 'category_40': 39.5846786}"
      ]
     },
     "execution_count": 14,
     "metadata": {},
     "output_type": "execute_result"
    }
   ],
   "source": [
    "bst.get_score(importance_type='gain')"
   ]
  },
  {
   "cell_type": "code",
   "execution_count": 15,
   "metadata": {},
   "outputs": [
    {
     "data": {
      "image/png": "[encoded data removed]",
      "text/plain": [
       "<Figure size 432x288 with 1 Axes>"
      ]
     },
     "metadata": {
      "needs_background": "light"
     },
     "output_type": "display_data"
    }
   ],
   "source": [
    "xgb.plot_tree(bst,num_trees= 58)\n",
    "plt.rcParams['figure.figsize'] = [100, 20]\n",
    "plt.show()"
   ]
  },
  {
   "cell_type": "markdown",
   "metadata": {},
   "source": [
    "## XGBOOST - Mean Imputing"
   ]
  },
  {
   "cell_type": "code",
   "execution_count": 16,
   "metadata": {},
   "outputs": [],
   "source": [
    "X_m[CATEGORY_COLUMN_NAME] = X_m[CATEGORY_COLUMN_NAME].astype('float')"
   ]
  },
  {
   "cell_type": "code",
   "execution_count": 17,
   "metadata": {},
   "outputs": [
    {
     "name": "stdout",
     "output_type": "stream",
     "text": [
      "[19:14:13] WARNING: C:/Users/Administrator/workspace/xgboost-win64_release_1.0.0/src/objective/regression_obj.cu:167: reg:linear is now deprecated in favor of reg:squarederror.\n"
     ]
    }
   ],
   "source": [
    "dtrain = xgb.DMatrix(X_m, label=y)\n",
    "param = {'max_depth': MAX_DEPTH - 1, 'eta': LEARNING_RATE, 'objective': 'reg:linear'}\n",
    "num_round = N_ESTIMATORS\n",
    "bst = xgb.train(param, dtrain, num_round)"
   ]
  },
  {
   "cell_type": "code",
   "execution_count": 18,
   "metadata": {},
   "outputs": [
    {
     "data": {
      "image/png": "[encoded data removed]",
      "text/plain": [
       "<Figure size 7200x1440 with 1 Axes>"
      ]
     },
     "metadata": {
      "needs_background": "light"
     },
     "output_type": "display_data"
    }
   ],
   "source": [
    "xgb.plot_importance(bst)\n",
    "plt.show()"
   ]
  },
  {
   "cell_type": "code",
   "execution_count": 19,
   "metadata": {},
   "outputs": [
    {
     "data": {
      "text/plain": [
       "{'category': 252.82007834878777, 'x1': 66.31948616637446}"
      ]
     },
     "execution_count": 19,
     "metadata": {},
     "output_type": "execute_result"
    }
   ],
   "source": [
    "bst.get_score(importance_type='gain')"
   ]
  },
  {
   "cell_type": "markdown",
   "metadata": {},
   "source": [
    "## Catboost"
   ]
  },
  {
   "cell_type": "code",
   "execution_count": 20,
   "metadata": {},
   "outputs": [
    {
     "name": "stdout",
     "output_type": "stream",
     "text": [
      "Requirement already satisfied: ipywidgets in c:\\users\\afeki\\anaconda3\\lib\\site-packages (7.5.1)\n",
      "Requirement already satisfied: traitlets>=4.3.1 in c:\\users\\afeki\\anaconda3\\lib\\site-packages (from ipywidgets) (4.3.3)\n",
      "Requirement already satisfied: nbformat>=4.2.0 in c:\\users\\afeki\\anaconda3\\lib\\site-packages (from ipywidgets) (4.4.0)\n",
      "Requirement already satisfied: ipykernel>=4.5.1 in c:\\users\\afeki\\anaconda3\\lib\\site-packages (from ipywidgets) (5.1.2)\n",
      "Requirement already satisfied: ipython>=4.0.0; python_version >= \"3.3\" in c:\\users\\afeki\\anaconda3\\lib\\site-packages (from ipywidgets) (7.8.0)\n",
      "Requirement already satisfied: widgetsnbextension~=3.5.0 in c:\\users\\afeki\\anaconda3\\lib\\site-packages (from ipywidgets) (3.5.1)\n",
      "Requirement already satisfied: decorator in c:\\users\\afeki\\anaconda3\\lib\\site-packages (from traitlets>=4.3.1->ipywidgets) (4.4.0)\n",
      "Requirement already satisfied: ipython-genutils in c:\\users\\afeki\\anaconda3\\lib\\site-packages (from traitlets>=4.3.1->ipywidgets) (0.2.0)\n",
      "Requirement already satisfied: six in c:\\users\\afeki\\anaconda3\\lib\\site-packages (from traitlets>=4.3.1->ipywidgets) (1.12.0)\n",
      "Requirement already satisfied: jsonschema!=2.5.0,>=2.4 in c:\\users\\afeki\\anaconda3\\lib\\site-packages (from nbformat>=4.2.0->ipywidgets) (3.0.2)\n",
      "Requirement already satisfied: jupyter-core in c:\\users\\afeki\\anaconda3\\lib\\site-packages (from nbformat>=4.2.0->ipywidgets) (4.5.0)\n",
      "Requirement already satisfied: tornado>=4.2 in c:\\users\\afeki\\anaconda3\\lib\\site-packages (from ipykernel>=4.5.1->ipywidgets) (6.0.3)\n",
      "Requirement already satisfied: jupyter-client in c:\\users\\afeki\\anaconda3\\lib\\site-packages (from ipykernel>=4.5.1->ipywidgets) (5.3.3)\n",
      "Requirement already satisfied: prompt-toolkit<2.1.0,>=2.0.0 in c:\\users\\afeki\\anaconda3\\lib\\site-packages (from ipython>=4.0.0; python_version >= \"3.3\"->ipywidgets) (2.0.10)\n",
      "Requirement already satisfied: pickleshare in c:\\users\\afeki\\anaconda3\\lib\\site-packages (from ipython>=4.0.0; python_version >= \"3.3\"->ipywidgets) (0.7.5)\n",
      "Requirement already satisfied: pygments in c:\\users\\afeki\\anaconda3\\lib\\site-packages (from ipython>=4.0.0; python_version >= \"3.3\"->ipywidgets) (2.4.2)\n",
      "Requirement already satisfied: backcall in c:\\users\\afeki\\anaconda3\\lib\\site-packages (from ipython>=4.0.0; python_version >= \"3.3\"->ipywidgets) (0.1.0)\n",
      "Requirement already satisfied: jedi>=0.10 in c:\\users\\afeki\\anaconda3\\lib\\site-packages (from ipython>=4.0.0; python_version >= \"3.3\"->ipywidgets) (0.15.1)\n",
      "Requirement already satisfied: setuptools>=18.5 in c:\\users\\afeki\\anaconda3\\lib\\site-packages (from ipython>=4.0.0; python_version >= \"3.3\"->ipywidgets) (41.4.0)\n",
      "Requirement already satisfied: colorama; sys_platform == \"win32\" in c:\\users\\afeki\\anaconda3\\lib\\site-packages (from ipython>=4.0.0; python_version >= \"3.3\"->ipywidgets) (0.4.1)\n",
      "Requirement already satisfied: notebook>=4.4.1 in c:\\users\\afeki\\anaconda3\\lib\\site-packages (from widgetsnbextension~=3.5.0->ipywidgets) (6.0.1)\n",
      "Requirement already satisfied: pyrsistent>=0.14.0 in c:\\users\\afeki\\anaconda3\\lib\\site-packages (from jsonschema!=2.5.0,>=2.4->nbformat>=4.2.0->ipywidgets) (0.15.4)\n",
      "Requirement already satisfied: attrs>=17.4.0 in c:\\users\\afeki\\anaconda3\\lib\\site-packages (from jsonschema!=2.5.0,>=2.4->nbformat>=4.2.0->ipywidgets) (19.2.0)\n",
      "Requirement already satisfied: pyzmq>=13 in c:\\users\\afeki\\anaconda3\\lib\\site-packages (from jupyter-client->ipykernel>=4.5.1->ipywidgets) (18.1.0)\n",
      "Requirement already satisfied: pywin32>=1.0; sys_platform == \"win32\" in c:\\users\\afeki\\anaconda3\\lib\\site-packages (from jupyter-client->ipykernel>=4.5.1->ipywidgets) (223)\n",
      "Requirement already satisfied: python-dateutil>=2.1 in c:\\users\\afeki\\anaconda3\\lib\\site-packages (from jupyter-client->ipykernel>=4.5.1->ipywidgets) (2.8.0)\n",
      "Requirement already satisfied: wcwidth in c:\\users\\afeki\\anaconda3\\lib\\site-packages (from prompt-toolkit<2.1.0,>=2.0.0->ipython>=4.0.0; python_version >= \"3.3\"->ipywidgets) (0.1.7)\n",
      "Requirement already satisfied: parso>=0.5.0 in c:\\users\\afeki\\anaconda3\\lib\\site-packages (from jedi>=0.10->ipython>=4.0.0; python_version >= \"3.3\"->ipywidgets) (0.5.1)\n",
      "Requirement already satisfied: terminado>=0.8.1 in c:\\users\\afeki\\anaconda3\\lib\\site-packages (from notebook>=4.4.1->widgetsnbextension~=3.5.0->ipywidgets) (0.8.2)\n",
      "Requirement already satisfied: jinja2 in c:\\users\\afeki\\anaconda3\\lib\\site-packages (from notebook>=4.4.1->widgetsnbextension~=3.5.0->ipywidgets) (2.10.3)\n",
      "Requirement already satisfied: nbconvert in c:\\users\\afeki\\anaconda3\\lib\\site-packages (from notebook>=4.4.1->widgetsnbextension~=3.5.0->ipywidgets) (5.6.0)\n",
      "Requirement already satisfied: prometheus-client in c:\\users\\afeki\\anaconda3\\lib\\site-packages (from notebook>=4.4.1->widgetsnbextension~=3.5.0->ipywidgets) (0.7.1)\n",
      "Requirement already satisfied: Send2Trash in c:\\users\\afeki\\anaconda3\\lib\\site-packages (from notebook>=4.4.1->widgetsnbextension~=3.5.0->ipywidgets) (1.5.0)\n",
      "Requirement already satisfied: MarkupSafe>=0.23 in c:\\users\\afeki\\anaconda3\\lib\\site-packages (from jinja2->notebook>=4.4.1->widgetsnbextension~=3.5.0->ipywidgets) (1.1.1)\n",
      "Requirement already satisfied: defusedxml in c:\\users\\afeki\\anaconda3\\lib\\site-packages (from nbconvert->notebook>=4.4.1->widgetsnbextension~=3.5.0->ipywidgets) (0.6.0)\n",
      "Requirement already satisfied: entrypoints>=0.2.2 in c:\\users\\afeki\\anaconda3\\lib\\site-packages (from nbconvert->notebook>=4.4.1->widgetsnbextension~=3.5.0->ipywidgets) (0.3)\n",
      "Requirement already satisfied: pandocfilters>=1.4.1 in c:\\users\\afeki\\anaconda3\\lib\\site-packages (from nbconvert->notebook>=4.4.1->widgetsnbextension~=3.5.0->ipywidgets) (1.4.2)\n",
      "Requirement already satisfied: bleach in c:\\users\\afeki\\anaconda3\\lib\\site-packages (from nbconvert->notebook>=4.4.1->widgetsnbextension~=3.5.0->ipywidgets) (3.1.0)\n",
      "Requirement already satisfied: mistune<2,>=0.8.1 in c:\\users\\afeki\\anaconda3\\lib\\site-packages (from nbconvert->notebook>=4.4.1->widgetsnbextension~=3.5.0->ipywidgets) (0.8.4)\n",
      "Requirement already satisfied: testpath in c:\\users\\afeki\\anaconda3\\lib\\site-packages (from nbconvert->notebook>=4.4.1->widgetsnbextension~=3.5.0->ipywidgets) (0.4.2)\n",
      "Requirement already satisfied: webencodings in c:\\users\\afeki\\anaconda3\\lib\\site-packages (from bleach->nbconvert->notebook>=4.4.1->widgetsnbextension~=3.5.0->ipywidgets) (0.5.1)\n"
     ]
    },
    {
     "name": "stderr",
     "output_type": "stream",
     "text": [
      "Enabling notebook extension jupyter-js-widgets/extension...\n",
      "      - Validating: ok\n"
     ]
    }
   ],
   "source": [
    "!pip install ipywidgets\n",
    "!jupyter nbextension enable --py widgetsnbextension"
   ]
  },
  {
   "cell_type": "code",
   "execution_count": 21,
   "metadata": {},
   "outputs": [
    {
     "name": "stdout",
     "output_type": "stream",
     "text": [
      "0:\tlearn: 4.2297871\ttotal: 63.9ms\tremaining: 6.33s\n",
      "1:\tlearn: 4.0978215\ttotal: 67.8ms\tremaining: 3.32s\n",
      "2:\tlearn: 3.9776130\ttotal: 70.6ms\tremaining: 2.28s\n",
      "3:\tlearn: 3.8806029\ttotal: 73.3ms\tremaining: 1.76s\n",
      "4:\tlearn: 3.7981203\ttotal: 75ms\tremaining: 1.43s\n",
      "5:\tlearn: 3.7240468\ttotal: 76.4ms\tremaining: 1.2s\n",
      "6:\tlearn: 3.6488668\ttotal: 78.6ms\tremaining: 1.04s\n",
      "7:\tlearn: 3.5982575\ttotal: 80.3ms\tremaining: 924ms\n",
      "8:\tlearn: 3.5557434\ttotal: 81.6ms\tremaining: 825ms\n",
      "9:\tlearn: 3.5080297\ttotal: 82.8ms\tremaining: 746ms\n",
      "10:\tlearn: 3.4688699\ttotal: 83.9ms\tremaining: 679ms\n",
      "11:\tlearn: 3.4400257\ttotal: 84.9ms\tremaining: 623ms\n",
      "12:\tlearn: 3.4202865\ttotal: 85.9ms\tremaining: 575ms\n",
      "13:\tlearn: 3.3989061\ttotal: 86.6ms\tremaining: 532ms\n",
      "14:\tlearn: 3.3847598\ttotal: 87.4ms\tremaining: 495ms\n",
      "15:\tlearn: 3.3702119\ttotal: 88.3ms\tremaining: 463ms\n",
      "16:\tlearn: 3.3569939\ttotal: 89.1ms\tremaining: 435ms\n",
      "17:\tlearn: 3.3413643\ttotal: 89.9ms\tremaining: 410ms\n",
      "18:\tlearn: 3.3292642\ttotal: 90.7ms\tremaining: 387ms\n",
      "19:\tlearn: 3.3210451\ttotal: 91.4ms\tremaining: 365ms\n",
      "20:\tlearn: 3.3113222\ttotal: 92.1ms\tremaining: 346ms\n",
      "21:\tlearn: 3.2990664\ttotal: 92.8ms\tremaining: 329ms\n",
      "22:\tlearn: 3.2903608\ttotal: 93.5ms\tremaining: 313ms\n",
      "23:\tlearn: 3.2844847\ttotal: 94.1ms\tremaining: 298ms\n",
      "24:\tlearn: 3.2761874\ttotal: 94.8ms\tremaining: 284ms\n",
      "25:\tlearn: 3.2701942\ttotal: 95.5ms\tremaining: 272ms\n",
      "26:\tlearn: 3.2632824\ttotal: 96.4ms\tremaining: 261ms\n",
      "27:\tlearn: 3.2571866\ttotal: 97ms\tremaining: 250ms\n",
      "28:\tlearn: 3.2530952\ttotal: 97.7ms\tremaining: 239ms\n",
      "29:\tlearn: 3.2493010\ttotal: 98.3ms\tremaining: 229ms\n",
      "30:\tlearn: 3.2437081\ttotal: 98.9ms\tremaining: 220ms\n",
      "31:\tlearn: 3.2411259\ttotal: 99.6ms\tremaining: 212ms\n",
      "32:\tlearn: 3.2377792\ttotal: 100ms\tremaining: 204ms\n",
      "33:\tlearn: 3.2358197\ttotal: 101ms\tremaining: 196ms\n",
      "34:\tlearn: 3.2335410\ttotal: 102ms\tremaining: 189ms\n",
      "35:\tlearn: 3.2300789\ttotal: 102ms\tremaining: 182ms\n",
      "36:\tlearn: 3.2278265\ttotal: 103ms\tremaining: 175ms\n",
      "37:\tlearn: 3.2263416\ttotal: 103ms\tremaining: 169ms\n",
      "38:\tlearn: 3.2260300\ttotal: 104ms\tremaining: 163ms\n",
      "39:\tlearn: 3.2226245\ttotal: 105ms\tremaining: 157ms\n",
      "40:\tlearn: 3.2209671\ttotal: 105ms\tremaining: 152ms\n",
      "41:\tlearn: 3.2203900\ttotal: 106ms\tremaining: 146ms\n",
      "42:\tlearn: 3.2183945\ttotal: 107ms\tremaining: 141ms\n",
      "43:\tlearn: 3.2177292\ttotal: 107ms\tremaining: 137ms\n",
      "44:\tlearn: 3.2155323\ttotal: 108ms\tremaining: 132ms\n",
      "45:\tlearn: 3.2150735\ttotal: 109ms\tremaining: 128ms\n",
      "46:\tlearn: 3.2148790\ttotal: 109ms\tremaining: 123ms\n",
      "47:\tlearn: 3.2125194\ttotal: 110ms\tremaining: 119ms\n",
      "48:\tlearn: 3.2113186\ttotal: 111ms\tremaining: 115ms\n",
      "49:\tlearn: 3.2102658\ttotal: 111ms\tremaining: 111ms\n",
      "50:\tlearn: 3.2088561\ttotal: 112ms\tremaining: 108ms\n",
      "51:\tlearn: 3.2076314\ttotal: 113ms\tremaining: 104ms\n",
      "52:\tlearn: 3.2075020\ttotal: 113ms\tremaining: 100ms\n",
      "53:\tlearn: 3.2065104\ttotal: 114ms\tremaining: 97ms\n",
      "54:\tlearn: 3.2041131\ttotal: 115ms\tremaining: 93.7ms\n",
      "55:\tlearn: 3.2030590\ttotal: 115ms\tremaining: 90.5ms\n",
      "56:\tlearn: 3.2016688\ttotal: 116ms\tremaining: 87.4ms\n",
      "57:\tlearn: 3.1998357\ttotal: 117ms\tremaining: 84.4ms\n",
      "58:\tlearn: 3.1995802\ttotal: 117ms\tremaining: 81.4ms\n",
      "59:\tlearn: 3.1986709\ttotal: 118ms\tremaining: 78.6ms\n",
      "60:\tlearn: 3.1969162\ttotal: 118ms\tremaining: 75.7ms\n",
      "61:\tlearn: 3.1959155\ttotal: 119ms\tremaining: 73ms\n",
      "62:\tlearn: 3.1954241\ttotal: 120ms\tremaining: 70.4ms\n",
      "63:\tlearn: 3.1936733\ttotal: 121ms\tremaining: 67.8ms\n",
      "64:\tlearn: 3.1928628\ttotal: 121ms\tremaining: 65.2ms\n",
      "65:\tlearn: 3.1914458\ttotal: 122ms\tremaining: 62.8ms\n",
      "66:\tlearn: 3.1905298\ttotal: 123ms\tremaining: 60.4ms\n",
      "67:\tlearn: 3.1901875\ttotal: 123ms\tremaining: 58ms\n",
      "68:\tlearn: 3.1893834\ttotal: 124ms\tremaining: 55.6ms\n",
      "69:\tlearn: 3.1889644\ttotal: 124ms\tremaining: 53.4ms\n",
      "70:\tlearn: 3.1874848\ttotal: 125ms\tremaining: 51.1ms\n",
      "71:\tlearn: 3.1857754\ttotal: 126ms\tremaining: 49ms\n",
      "72:\tlearn: 3.1847352\ttotal: 127ms\tremaining: 46.8ms\n",
      "73:\tlearn: 3.1846211\ttotal: 127ms\tremaining: 44.7ms\n",
      "74:\tlearn: 3.1842068\ttotal: 128ms\tremaining: 42.6ms\n",
      "75:\tlearn: 3.1834381\ttotal: 129ms\tremaining: 40.6ms\n",
      "76:\tlearn: 3.1830702\ttotal: 129ms\tremaining: 38.6ms\n",
      "77:\tlearn: 3.1824769\ttotal: 130ms\tremaining: 36.6ms\n",
      "78:\tlearn: 3.1806444\ttotal: 131ms\tremaining: 34.7ms\n",
      "79:\tlearn: 3.1787140\ttotal: 131ms\tremaining: 32.8ms\n",
      "80:\tlearn: 3.1779623\ttotal: 132ms\tremaining: 30.9ms\n",
      "81:\tlearn: 3.1764225\ttotal: 132ms\tremaining: 29.1ms\n",
      "82:\tlearn: 3.1745270\ttotal: 133ms\tremaining: 27.3ms\n",
      "83:\tlearn: 3.1725180\ttotal: 134ms\tremaining: 25.5ms\n",
      "84:\tlearn: 3.1719697\ttotal: 134ms\tremaining: 23.7ms\n",
      "85:\tlearn: 3.1696294\ttotal: 135ms\tremaining: 22ms\n",
      "86:\tlearn: 3.1692899\ttotal: 136ms\tremaining: 20.3ms\n",
      "87:\tlearn: 3.1676890\ttotal: 136ms\tremaining: 18.6ms\n",
      "88:\tlearn: 3.1667069\ttotal: 137ms\tremaining: 16.9ms\n",
      "89:\tlearn: 3.1657470\ttotal: 138ms\tremaining: 15.3ms\n",
      "90:\tlearn: 3.1651344\ttotal: 138ms\tremaining: 13.7ms\n",
      "91:\tlearn: 3.1632272\ttotal: 139ms\tremaining: 12.1ms\n",
      "92:\tlearn: 3.1624676\ttotal: 140ms\tremaining: 10.5ms\n",
      "93:\tlearn: 3.1617927\ttotal: 141ms\tremaining: 8.97ms\n",
      "94:\tlearn: 3.1610919\ttotal: 141ms\tremaining: 7.43ms\n",
      "95:\tlearn: 3.1599257\ttotal: 142ms\tremaining: 5.91ms\n",
      "96:\tlearn: 3.1589456\ttotal: 142ms\tremaining: 4.41ms\n",
      "97:\tlearn: 3.1585464\ttotal: 143ms\tremaining: 2.92ms\n",
      "98:\tlearn: 3.1577868\ttotal: 144ms\tremaining: 1.45ms\n",
      "99:\tlearn: 3.1564533\ttotal: 144ms\tremaining: 0us\n"
     ]
    },
    {
     "data": {
      "text/plain": [
       "<catboost.core.CatBoostRegressor at 0x1d7efd5e488>"
      ]
     },
     "execution_count": 21,
     "metadata": {},
     "output_type": "execute_result"
    }
   ],
   "source": [
    "from catboost import Pool, CatBoostRegressor\n",
    "# initialize data\n",
    "# initialize Pool\n",
    "train_pool = Pool(X, \n",
    "                  y, \n",
    "                  cat_features=[0])\n",
    "\n",
    "# specify the training parameters \n",
    "model = CatBoostRegressor(iterations=100, \n",
    "                          depth=3, \n",
    "                          learning_rate=0.1, \n",
    "                          loss_function='RMSE')\n",
    "#train the model\n",
    "model.fit(train_pool)"
   ]
  },
  {
   "cell_type": "code",
   "execution_count": 22,
   "metadata": {},
   "outputs": [
    {
     "name": "stdout",
     "output_type": "stream",
     "text": [
      "['category', 'x1']\n"
     ]
    },
    {
     "data": {
      "text/plain": [
       "array([43.87615703, 56.12384297])"
      ]
     },
     "execution_count": 22,
     "metadata": {},
     "output_type": "execute_result"
    }
   ],
   "source": [
    "print(model.feature_names_)\n",
    "model.feature_importances_"
   ]
  }
 ],
 "metadata": {
  "kernelspec": {
   "display_name": "Python 3",
   "language": "python",
   "name": "python3"
  },
  "language_info": {
   "codemirror_mode": {
    "name": "ipython",
    "version": 3
   },
   "file_extension": ".py",
   "mimetype": "text/x-python",
   "name": "python",
   "nbconvert_exporter": "python",
   "pygments_lexer": "ipython3",
   "version": "3.7.6"
  }
 },
 "nbformat": 4,
 "nbformat_minor": 4
}
